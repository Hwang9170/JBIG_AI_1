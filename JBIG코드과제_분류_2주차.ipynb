{
 "cells": [
  {
   "cell_type": "markdown",
   "metadata": {},
   "source": [
    "# 기본 베이스라인"
   ]
  },
  {
   "cell_type": "markdown",
   "metadata": {},
   "source": [
    "미션 1: 베이스라인의 코드마다 간단하게 기능을 주셕으로 달아주세요.\n",
    "\n",
    "(코드 흐름을 이해하기 위해서)"
   ]
  },
  {
   "cell_type": "code",
   "execution_count": 6,
   "metadata": {},
   "outputs": [
    {
     "name": "stdout",
     "output_type": "stream",
     "text": [
      "F1 Score on the validation set: 0.4312\n"
     ]
    }
   ],
   "source": [
    "import pandas as pd\n",
    "import numpy as np\n",
    "import random\n",
    "import os\n",
    "\n",
    "from sklearn.preprocessing import LabelEncoder\n",
    "from sklearn.tree import DecisionTreeClassifier\n",
    "from sklearn.model_selection import train_test_split\n",
    "from sklearn.metrics import f1_score\n",
    "\n",
    "# 랜덤 시드를 고정하여 실험의 재현성을 확보하는 함수\n",
    "def seed_everything(seed):\n",
    "    random.seed(seed)  # 파이썬 기본 random 모듈 시드 고정\n",
    "    os.environ['PYTHONHASHSEED'] = str(seed)  # 파이썬 해시 시드 고정\n",
    "    np.random.seed(seed)  # numpy 시드 고정\n",
    "\n",
    "seed_everything(42)  # 시드를 42로 고정\n",
    "\n",
    "# 학습(train) 데이터 및 테스트(test) 데이터를 불러옴\n",
    "train = pd.read_csv('./train.csv')\n",
    "test = pd.read_csv('./test.csv')\n",
    "\n",
    "# 학습 데이터에서 'ID'와 'TARGET' 컬럼을 제외한 나머지 데이터를 독립 변수로 사용\n",
    "x_train = train.drop(['ID', 'TARGET'], axis=1)\n",
    "# 'TARGET' 컬럼은 종속 변수 (예측 대상)\n",
    "y_train = train['TARGET']\n",
    "\n",
    "# 테스트 데이터에서 'ID' 컬럼을 제외한 나머지 데이터를 예측에 사용할 독립 변수로 사용\n",
    "x_test = test.drop('ID', axis=1)\n",
    "\n",
    "# 범주형 데이터인 '요일'과 '범죄발생지' 컬럼에 라벨 인코딩(Label Encoding)을 적용\n",
    "ordinal_features = ['요일', '범죄발생지']\n",
    "for feature in ordinal_features:\n",
    "    le = LabelEncoder()  # 라벨 인코딩 객체 생성\n",
    "    le.fit(x_train[feature])  # 학습 데이터에 대해 라벨 인코딩 학습\n",
    "    x_train[feature] = le.transform(x_train[feature])  # 학습 데이터에 인코딩 적용\n",
    "    \n",
    "    # 테스트 데이터에도 동일한 라벨 인코딩 적용\n",
    "    for label in np.unique(x_test[feature]):\n",
    "        if label not in le.classes_:\n",
    "            le.classes_ = np.append(le.classes_, label)  # 새로운 값이 있으면 클래스 목록에 추가\n",
    "    x_test[feature] = le.transform(x_test[feature])  # 테스트 데이터에 인코딩 적용\n",
    "\n",
    "# 학습 데이터를 80%는 학습용, 20%는 검증용으로 분리 (train/validation split)\n",
    "x_train, x_val, y_train, y_val = train_test_split(x_train, y_train, test_size=0.2, random_state=42)\n",
    "\n",
    "# 의사결정나무 모델을 정의하고 학습\n",
    "model = DecisionTreeClassifier(random_state=42)\n",
    "model.fit(x_train, y_train)  # 학습 데이터로 모델 학습\n",
    "\n",
    "# 검증 데이터에 대해 예측\n",
    "y_pred = model.predict(x_val)\n",
    "\n",
    "# 예측값과 실제값을 비교하여 F1 스코어(평균 F1)를 계산\n",
    "f1 = f1_score(y_val, y_pred, average='macro')\n",
    "print(f'F1 Score on the validation set: {f1:.4f}')\n",
    "\n",
    "# 학습된 모델을 사용해 테스트 데이터에 대한 예측 수행\n",
    "pred = model.predict(x_test)\n",
    "\n",
    "# 제출 파일 생성: sample_submission.csv 파일을 읽어와 예측 결과를 TARGET 컬럼에 저장\n",
    "submit = pd.read_csv('./sample_submission.csv')\n",
    "submit['TARGET'] = pred\n",
    "\n",
    "# 결과를 submit.csv 파일로 저장 (제출용)\n",
    "submit.to_csv('submit.csv', index=False)\n"
   ]
  },
  {
   "cell_type": "markdown",
   "metadata": {},
   "source": [
    "## 전처리"
   ]
  },
  {
   "cell_type": "markdown",
   "metadata": {},
   "source": [
    "미션 2 : 베이스라인 코드에서 스케일러를 추가해보세요.\n",
    "\n",
    "(MinMax, MaxAbs, Standard, Robust 중 택 1)\n"
   ]
  },
  {
   "cell_type": "code",
   "execution_count": 7,
   "metadata": {},
   "outputs": [
    {
     "name": "stdout",
     "output_type": "stream",
     "text": [
      "F1 Score on the validation set: 0.4303\n"
     ]
    }
   ],
   "source": [
    "import pandas as pd\n",
    "import numpy as np\n",
    "import random\n",
    "import os\n",
    "\n",
    "from sklearn.preprocessing import LabelEncoder, StandardScaler\n",
    "from sklearn.tree import DecisionTreeClassifier\n",
    "from sklearn.model_selection import train_test_split\n",
    "from sklearn.metrics import f1_score\n",
    "\n",
    "def seed_everything(seed):\n",
    "    random.seed(seed)\n",
    "    os.environ['PYTHONHASHSEED'] = str(seed)\n",
    "    np.random.seed(seed)\n",
    "\n",
    "seed_everything(42)\n",
    "\n",
    "train = pd.read_csv('./train.csv')\n",
    "test = pd.read_csv('./test.csv')\n",
    "\n",
    "x_train = train.drop(['ID', 'TARGET'], axis=1)\n",
    "y_train = train['TARGET']\n",
    "\n",
    "x_test = test.drop('ID', axis=1)\n",
    "\n",
    "# 범주형 피처에 라벨 인코딩 적용\n",
    "ordinal_features = ['요일', '범죄발생지']\n",
    "for feature in ordinal_features:\n",
    "    le = LabelEncoder()\n",
    "    le.fit(x_train[feature])\n",
    "    x_train[feature] = le.transform(x_train[feature])\n",
    "    \n",
    "    # 테스트 데이터에도 동일한 인코딩을 적용\n",
    "    for label in np.unique(x_test[feature]):\n",
    "        if label not in le.classes_:\n",
    "            le.classes_ = np.append(le.classes_, label)\n",
    "    x_test[feature] = le.transform(x_test[feature])\n",
    "\n",
    "# 데이터를 학습용과 검증용으로 분할\n",
    "x_train, x_val, y_train, y_val = train_test_split(x_train, y_train, test_size=0.2, random_state=42)\n",
    "\n",
    "# 스케일링 추가 (StandardScaler 사용)\n",
    "scaler = StandardScaler()\n",
    "x_train = scaler.fit_transform(x_train)\n",
    "x_val = scaler.transform(x_val)\n",
    "x_test = scaler.transform(x_test)\n",
    "\n",
    "# 모델 학습\n",
    "model = DecisionTreeClassifier(random_state=42)\n",
    "model.fit(x_train, y_train)\n",
    "\n",
    "# 검증 데이터에 대한 예측\n",
    "y_pred = model.predict(x_val)\n",
    "\n",
    "# F1 스코어 계산\n",
    "f1 = f1_score(y_val, y_pred, average='macro')\n",
    "print(f'F1 Score on the validation set: {f1:.4f}')\n",
    "\n",
    "# 테스트 데이터에 대한 예측 및 제출 파일 생성\n",
    "pred = model.predict(x_test)\n",
    "submit = pd.read_csv('./sample_submission.csv')\n",
    "submit['TARGET'] = pred\n",
    "submit.to_csv('submit.csv', index=False)\n"
   ]
  },
  {
   "cell_type": "markdown",
   "metadata": {},
   "source": [
    "미션 3 : 위 코드에서 Kfold를 활용해서 교차검증하는 코드로 변경해보세요."
   ]
  },
  {
   "cell_type": "code",
   "execution_count": null,
   "metadata": {},
   "outputs": [],
   "source": []
  },
  {
   "cell_type": "markdown",
   "metadata": {},
   "source": [
    "미션 4 : Target값이 불균형하니 Stratified Kfold로 변경해보세요."
   ]
  },
  {
   "cell_type": "code",
   "execution_count": null,
   "metadata": {},
   "outputs": [],
   "source": []
  },
  {
   "cell_type": "markdown",
   "metadata": {},
   "source": [
    "미션 5 : 데이터가 불균형하네요. 언더샘플링 기법 중 하나를 선택해서 사용해보세요."
   ]
  },
  {
   "cell_type": "code",
   "execution_count": null,
   "metadata": {},
   "outputs": [],
   "source": []
  },
  {
   "cell_type": "markdown",
   "metadata": {},
   "source": [
    "미션 6 : 이번엔 오버 샘플링 기법 중 하나를 선택해 차이를 비교해보세요."
   ]
  },
  {
   "cell_type": "code",
   "execution_count": null,
   "metadata": {},
   "outputs": [],
   "source": []
  },
  {
   "cell_type": "markdown",
   "metadata": {},
   "source": [
    "## 모델변경"
   ]
  },
  {
   "cell_type": "markdown",
   "metadata": {},
   "source": [
    "미션 7 : 전처리가 된 코드에서 GradientBoostingClassifier로 모델을 변경해보세요."
   ]
  },
  {
   "cell_type": "code",
   "execution_count": null,
   "metadata": {},
   "outputs": [],
   "source": []
  },
  {
   "cell_type": "markdown",
   "metadata": {},
   "source": [
    "미션 8 : 전처리가 된 코드에서 Catboost로 코드를 변경해보세요."
   ]
  },
  {
   "cell_type": "code",
   "execution_count": null,
   "metadata": {},
   "outputs": [],
   "source": []
  },
  {
   "cell_type": "markdown",
   "metadata": {},
   "source": [
    "## 성능개선 : 하이퍼 파라미터 튜닝"
   ]
  },
  {
   "cell_type": "markdown",
   "metadata": {},
   "source": [
    "미션 9: 그동안 가장 성능이 좋았던 모델을 Grid Search를 통해서 하이퍼파라미터들을 튜닝해보고 최적의 파라미터들을 출력해보세요(grid_search.best_params_)"
   ]
  },
  {
   "cell_type": "code",
   "execution_count": null,
   "metadata": {},
   "outputs": [],
   "source": []
  },
  {
   "cell_type": "markdown",
   "metadata": {},
   "source": [
    "## 성능개선 : 앙상블, 배깅"
   ]
  },
  {
   "cell_type": "markdown",
   "metadata": {},
   "source": [
    "미션 10 : Grid Search를 통해 도출된 최적의 모델에 앙상블 기법 중 배깅을 활용해서 성능을 향상시켜보세요."
   ]
  },
  {
   "cell_type": "code",
   "execution_count": null,
   "metadata": {},
   "outputs": [],
   "source": []
  },
  {
   "cell_type": "markdown",
   "metadata": {},
   "source": [
    "# AutoML ; PyCaret"
   ]
  },
  {
   "cell_type": "markdown",
   "metadata": {},
   "source": [
    "PyCaret 공식 Document 중 QuickStart에 들어가시면 상세하게 잘 설명되어있습니다.\n",
    "\n",
    "범죄유형 분류 데이터를 넣어서 PyCaret을 사용해보세요"
   ]
  },
  {
   "cell_type": "code",
   "execution_count": 8,
   "metadata": {},
   "outputs": [],
   "source": [
    "# 설정 ; setup"
   ]
  },
  {
   "cell_type": "code",
   "execution_count": 9,
   "metadata": {},
   "outputs": [],
   "source": [
    "# 모델간 비교\n"
   ]
  },
  {
   "cell_type": "code",
   "execution_count": 10,
   "metadata": {},
   "outputs": [],
   "source": [
    "# 모델 분석"
   ]
  },
  {
   "cell_type": "code",
   "execution_count": 11,
   "metadata": {},
   "outputs": [],
   "source": [
    "# 예측"
   ]
  },
  {
   "cell_type": "code",
   "execution_count": 12,
   "metadata": {},
   "outputs": [],
   "source": [
    "# 모델 저장"
   ]
  },
  {
   "cell_type": "markdown",
   "metadata": {},
   "source": [
    "미션 11 : PyCaret이 알려준 최고의 모델에 전처리 및 Grid Search를 적용해 하이퍼 파라미터를 튜닝해서 제출해보세요. "
   ]
  },
  {
   "cell_type": "code",
   "execution_count": null,
   "metadata": {},
   "outputs": [],
   "source": []
  },
  {
   "cell_type": "markdown",
   "metadata": {},
   "source": [
    "## B코스 회원 전용"
   ]
  },
  {
   "cell_type": "code",
   "execution_count": 13,
   "metadata": {},
   "outputs": [],
   "source": [
    "# GBM, XGBoost, LightGBM, Catboost 의 성능과 소요시간에 대한 표를 그리세요(pandas 활용)\n",
    "# 예시)\n",
    "#            GBM, XGBoost, LightGBM, Catboost\n",
    "# f1_score    45    46        47        48\n",
    "# 소요시간     30    20        15        10"
   ]
  },
  {
   "cell_type": "code",
   "execution_count": 14,
   "metadata": {},
   "outputs": [],
   "source": [
    "# 데이터 불균형문제를 해소하기 위한 다양한 기법들이 있습니다.\n",
    "# 그중 가장 좋은 방법은 무엇인지 실험결과로 입증해보세요."
   ]
  },
  {
   "cell_type": "code",
   "execution_count": 15,
   "metadata": {},
   "outputs": [],
   "source": [
    "# 다양한 출처에서 아이디어를 얻어와서 대회에 적용해보세요\n",
    "# 출처는 세미나시간에 공유하거나 제출할겁니다. 출처 사이트도 같이 저장해두세요."
   ]
  }
 ],
 "metadata": {
  "kernelspec": {
   "display_name": "Autogluon_torch",
   "language": "python",
   "name": "python3"
  },
  "language_info": {
   "codemirror_mode": {
    "name": "ipython",
    "version": 3
   },
   "file_extension": ".py",
   "mimetype": "text/x-python",
   "name": "python",
   "nbconvert_exporter": "python",
   "pygments_lexer": "ipython3",
   "version": "3.9.6"
  }
 },
 "nbformat": 4,
 "nbformat_minor": 2
}
